{
  "cells": [
    {
      "cell_type": "markdown",
      "metadata": {
        "id": "zRotdWmwgYpE"
      },
      "source": [
        "#**installing libraries**"
      ]
    },
    {
      "cell_type": "code",
      "execution_count": null,
      "metadata": {
        "colab": {
          "base_uri": "https://localhost:8080/"
        },
        "id": "KdCQOZIygXp7",
        "outputId": "d714741f-1a88-4def-ba15-8304c9325b3b"
      },
      "outputs": [
        {
          "output_type": "stream",
          "name": "stdout",
          "text": [
            "Requirement already satisfied: librosa in /usr/local/lib/python3.10/dist-packages (0.10.2)\n",
            "Requirement already satisfied: audioread>=2.1.9 in /usr/local/lib/python3.10/dist-packages (from librosa) (3.0.1)\n",
            "Requirement already satisfied: numpy!=1.22.0,!=1.22.1,!=1.22.2,>=1.20.3 in /usr/local/lib/python3.10/dist-packages (from librosa) (1.25.2)\n",
            "Requirement already satisfied: scipy>=1.2.0 in /usr/local/lib/python3.10/dist-packages (from librosa) (1.11.4)\n",
            "Requirement already satisfied: scikit-learn>=0.20.0 in /usr/local/lib/python3.10/dist-packages (from librosa) (1.2.2)\n",
            "Requirement already satisfied: joblib>=0.14 in /usr/local/lib/python3.10/dist-packages (from librosa) (1.4.2)\n",
            "Requirement already satisfied: decorator>=4.3.0 in /usr/local/lib/python3.10/dist-packages (from librosa) (4.4.2)\n",
            "Requirement already satisfied: numba>=0.51.0 in /usr/local/lib/python3.10/dist-packages (from librosa) (0.58.1)\n",
            "Requirement already satisfied: soundfile>=0.12.1 in /usr/local/lib/python3.10/dist-packages (from librosa) (0.12.1)\n",
            "Requirement already satisfied: pooch>=1.1 in /usr/local/lib/python3.10/dist-packages (from librosa) (1.8.1)\n",
            "Requirement already satisfied: soxr>=0.3.2 in /usr/local/lib/python3.10/dist-packages (from librosa) (0.3.7)\n",
            "Requirement already satisfied: typing-extensions>=4.1.1 in /usr/local/lib/python3.10/dist-packages (from librosa) (4.11.0)\n",
            "Requirement already satisfied: lazy-loader>=0.1 in /usr/local/lib/python3.10/dist-packages (from librosa) (0.4)\n",
            "Requirement already satisfied: msgpack>=1.0 in /usr/local/lib/python3.10/dist-packages (from librosa) (1.0.8)\n",
            "Requirement already satisfied: packaging in /usr/local/lib/python3.10/dist-packages (from lazy-loader>=0.1->librosa) (24.0)\n",
            "Requirement already satisfied: llvmlite<0.42,>=0.41.0dev0 in /usr/local/lib/python3.10/dist-packages (from numba>=0.51.0->librosa) (0.41.1)\n",
            "Requirement already satisfied: platformdirs>=2.5.0 in /usr/local/lib/python3.10/dist-packages (from pooch>=1.1->librosa) (4.2.1)\n",
            "Requirement already satisfied: requests>=2.19.0 in /usr/local/lib/python3.10/dist-packages (from pooch>=1.1->librosa) (2.31.0)\n",
            "Requirement already satisfied: threadpoolctl>=2.0.0 in /usr/local/lib/python3.10/dist-packages (from scikit-learn>=0.20.0->librosa) (3.5.0)\n",
            "Requirement already satisfied: cffi>=1.0 in /usr/local/lib/python3.10/dist-packages (from soundfile>=0.12.1->librosa) (1.16.0)\n",
            "Requirement already satisfied: pycparser in /usr/local/lib/python3.10/dist-packages (from cffi>=1.0->soundfile>=0.12.1->librosa) (2.22)\n",
            "Requirement already satisfied: charset-normalizer<4,>=2 in /usr/local/lib/python3.10/dist-packages (from requests>=2.19.0->pooch>=1.1->librosa) (3.3.2)\n",
            "Requirement already satisfied: idna<4,>=2.5 in /usr/local/lib/python3.10/dist-packages (from requests>=2.19.0->pooch>=1.1->librosa) (3.7)\n",
            "Requirement already satisfied: urllib3<3,>=1.21.1 in /usr/local/lib/python3.10/dist-packages (from requests>=2.19.0->pooch>=1.1->librosa) (2.0.7)\n",
            "Requirement already satisfied: certifi>=2017.4.17 in /usr/local/lib/python3.10/dist-packages (from requests>=2.19.0->pooch>=1.1->librosa) (2024.2.2)\n"
          ]
        }
      ],
      "source": [
        "!pip install librosa"
      ]
    },
    {
      "cell_type": "code",
      "execution_count": null,
      "metadata": {
        "colab": {
          "base_uri": "https://localhost:8080/"
        },
        "id": "0qvs-sjKo58d",
        "outputId": "1f4c558b-9784-48f8-9239-4ba00fdddc4b"
      },
      "outputs": [
        {
          "output_type": "stream",
          "name": "stdout",
          "text": [
            "Collecting pydub\n",
            "  Downloading pydub-0.25.1-py2.py3-none-any.whl (32 kB)\n",
            "Installing collected packages: pydub\n",
            "Successfully installed pydub-0.25.1\n"
          ]
        }
      ],
      "source": [
        "!pip install pydub"
      ]
    },
    {
      "cell_type": "code",
      "execution_count": null,
      "metadata": {
        "colab": {
          "base_uri": "https://localhost:8080/"
        },
        "id": "yDnitzL_o84B",
        "outputId": "26e52329-fab4-4ebf-b7c6-6732aa53a9ca"
      },
      "outputs": [
        {
          "output_type": "stream",
          "name": "stdout",
          "text": [
            "Collecting audiomentations\n",
            "  Downloading audiomentations-0.35.0-py3-none-any.whl (82 kB)\n",
            "\u001b[?25l     \u001b[90m━━━━━━━━━━━━━━━━━━━━━━━━━━━━━━━━━━━━━━━━\u001b[0m \u001b[32m0.0/82.3 kB\u001b[0m \u001b[31m?\u001b[0m eta \u001b[36m-:--:--\u001b[0m\r\u001b[2K     \u001b[90m━━━━━━━━━━━━━━━━━━━━━━━━━━━━━━━━━━━━━━━━\u001b[0m \u001b[32m82.3/82.3 kB\u001b[0m \u001b[31m2.3 MB/s\u001b[0m eta \u001b[36m0:00:00\u001b[0m\n",
            "\u001b[?25hRequirement already satisfied: numpy>=1.21.0 in /usr/local/lib/python3.10/dist-packages (from audiomentations) (1.25.2)\n",
            "Requirement already satisfied: librosa!=0.10.0,<0.11.0,>=0.8.0 in /usr/local/lib/python3.10/dist-packages (from audiomentations) (0.10.2)\n",
            "Requirement already satisfied: scipy<2,>=1.4.0 in /usr/local/lib/python3.10/dist-packages (from audiomentations) (1.11.4)\n",
            "Requirement already satisfied: soxr<1.0.0,>=0.3.2 in /usr/local/lib/python3.10/dist-packages (from audiomentations) (0.3.7)\n",
            "Requirement already satisfied: audioread>=2.1.9 in /usr/local/lib/python3.10/dist-packages (from librosa!=0.10.0,<0.11.0,>=0.8.0->audiomentations) (3.0.1)\n",
            "Requirement already satisfied: scikit-learn>=0.20.0 in /usr/local/lib/python3.10/dist-packages (from librosa!=0.10.0,<0.11.0,>=0.8.0->audiomentations) (1.2.2)\n",
            "Requirement already satisfied: joblib>=0.14 in /usr/local/lib/python3.10/dist-packages (from librosa!=0.10.0,<0.11.0,>=0.8.0->audiomentations) (1.4.2)\n",
            "Requirement already satisfied: decorator>=4.3.0 in /usr/local/lib/python3.10/dist-packages (from librosa!=0.10.0,<0.11.0,>=0.8.0->audiomentations) (4.4.2)\n",
            "Requirement already satisfied: numba>=0.51.0 in /usr/local/lib/python3.10/dist-packages (from librosa!=0.10.0,<0.11.0,>=0.8.0->audiomentations) (0.58.1)\n",
            "Requirement already satisfied: soundfile>=0.12.1 in /usr/local/lib/python3.10/dist-packages (from librosa!=0.10.0,<0.11.0,>=0.8.0->audiomentations) (0.12.1)\n",
            "Requirement already satisfied: pooch>=1.1 in /usr/local/lib/python3.10/dist-packages (from librosa!=0.10.0,<0.11.0,>=0.8.0->audiomentations) (1.8.1)\n",
            "Requirement already satisfied: typing-extensions>=4.1.1 in /usr/local/lib/python3.10/dist-packages (from librosa!=0.10.0,<0.11.0,>=0.8.0->audiomentations) (4.11.0)\n",
            "Requirement already satisfied: lazy-loader>=0.1 in /usr/local/lib/python3.10/dist-packages (from librosa!=0.10.0,<0.11.0,>=0.8.0->audiomentations) (0.4)\n",
            "Requirement already satisfied: msgpack>=1.0 in /usr/local/lib/python3.10/dist-packages (from librosa!=0.10.0,<0.11.0,>=0.8.0->audiomentations) (1.0.8)\n",
            "Requirement already satisfied: packaging in /usr/local/lib/python3.10/dist-packages (from lazy-loader>=0.1->librosa!=0.10.0,<0.11.0,>=0.8.0->audiomentations) (24.0)\n",
            "Requirement already satisfied: llvmlite<0.42,>=0.41.0dev0 in /usr/local/lib/python3.10/dist-packages (from numba>=0.51.0->librosa!=0.10.0,<0.11.0,>=0.8.0->audiomentations) (0.41.1)\n",
            "Requirement already satisfied: platformdirs>=2.5.0 in /usr/local/lib/python3.10/dist-packages (from pooch>=1.1->librosa!=0.10.0,<0.11.0,>=0.8.0->audiomentations) (4.2.1)\n",
            "Requirement already satisfied: requests>=2.19.0 in /usr/local/lib/python3.10/dist-packages (from pooch>=1.1->librosa!=0.10.0,<0.11.0,>=0.8.0->audiomentations) (2.31.0)\n",
            "Requirement already satisfied: threadpoolctl>=2.0.0 in /usr/local/lib/python3.10/dist-packages (from scikit-learn>=0.20.0->librosa!=0.10.0,<0.11.0,>=0.8.0->audiomentations) (3.5.0)\n",
            "Requirement already satisfied: cffi>=1.0 in /usr/local/lib/python3.10/dist-packages (from soundfile>=0.12.1->librosa!=0.10.0,<0.11.0,>=0.8.0->audiomentations) (1.16.0)\n",
            "Requirement already satisfied: pycparser in /usr/local/lib/python3.10/dist-packages (from cffi>=1.0->soundfile>=0.12.1->librosa!=0.10.0,<0.11.0,>=0.8.0->audiomentations) (2.22)\n",
            "Requirement already satisfied: charset-normalizer<4,>=2 in /usr/local/lib/python3.10/dist-packages (from requests>=2.19.0->pooch>=1.1->librosa!=0.10.0,<0.11.0,>=0.8.0->audiomentations) (3.3.2)\n",
            "Requirement already satisfied: idna<4,>=2.5 in /usr/local/lib/python3.10/dist-packages (from requests>=2.19.0->pooch>=1.1->librosa!=0.10.0,<0.11.0,>=0.8.0->audiomentations) (3.7)\n",
            "Requirement already satisfied: urllib3<3,>=1.21.1 in /usr/local/lib/python3.10/dist-packages (from requests>=2.19.0->pooch>=1.1->librosa!=0.10.0,<0.11.0,>=0.8.0->audiomentations) (2.0.7)\n",
            "Requirement already satisfied: certifi>=2017.4.17 in /usr/local/lib/python3.10/dist-packages (from requests>=2.19.0->pooch>=1.1->librosa!=0.10.0,<0.11.0,>=0.8.0->audiomentations) (2024.2.2)\n",
            "Installing collected packages: audiomentations\n",
            "Successfully installed audiomentations-0.35.0\n"
          ]
        }
      ],
      "source": [
        "!pip install audiomentations --upgrade"
      ]
    },
    {
      "cell_type": "markdown",
      "metadata": {
        "id": "C9GdsJDagx8i"
      },
      "source": [
        "#**import libraries**"
      ]
    },
    {
      "cell_type": "code",
      "execution_count": null,
      "metadata": {
        "id": "KWc1u4C2gwoS"
      },
      "outputs": [],
      "source": [
        "import pandas as pd\n",
        "import numpy as np\n",
        "\n",
        "import os\n",
        "import sys\n",
        "\n",
        "# librosa is a Python library for analyzing audio and music. It can be used to extract the data from the audio files we will see it later.\n",
        "import librosa\n",
        "import librosa.display\n",
        "import seaborn as sns\n",
        "import matplotlib.pyplot as plt\n",
        "\n",
        "from sklearn.preprocessing import StandardScaler, OneHotEncoder\n",
        "from sklearn.metrics import confusion_matrix, classification_report\n",
        "from sklearn.model_selection import train_test_split\n",
        "\n",
        "from tensorflow.keras.optimizers import Adam\n",
        "from tensorflow.keras.callbacks import EarlyStopping, ModelCheckpoint\n",
        "\n",
        "# to play the audio files\n",
        "from IPython.display import Audio\n",
        "\n",
        "import keras\n",
        "from keras.callbacks import ReduceLROnPlateau\n",
        "from keras.models import Sequential\n",
        "from keras.layers import Dense, Conv1D, MaxPooling1D, Flatten, Dropout, BatchNormalization\n",
        "from keras.utils import to_categorical, plot_model\n",
        "from keras.callbacks import ModelCheckpoint\n",
        "\n",
        "import warnings\n",
        "warnings.filterwarnings('ignore')\n"
      ]
    },
    {
      "cell_type": "markdown",
      "metadata": {
        "id": "FmF1Sr-Ug5kq"
      },
      "source": [
        "#**connect to drive**"
      ]
    },
    {
      "cell_type": "code",
      "execution_count": null,
      "metadata": {
        "id": "6JbzlzxAg5DO",
        "colab": {
          "base_uri": "https://localhost:8080/"
        },
        "outputId": "d76880cb-b425-4b2e-e409-71982631120b"
      },
      "outputs": [
        {
          "output_type": "stream",
          "name": "stderr",
          "text": [
            "WARNING:root:pydrive is deprecated and no longer maintained. We recommend that you migrate your projects to pydrive2, the maintained fork of pydrive\n"
          ]
        }
      ],
      "source": [
        "from pydrive.auth import GoogleAuth\n",
        "from pydrive.drive import GoogleDrive\n",
        "from google.colab import auth\n",
        "from oauth2client.client import GoogleCredentials"
      ]
    },
    {
      "cell_type": "code",
      "execution_count": null,
      "metadata": {
        "id": "K82x5bMpg-_2"
      },
      "outputs": [],
      "source": [
        "auth.authenticate_user()\n",
        "gauth = GoogleAuth()\n",
        "gauth.credentials = GoogleCredentials.get_application_default()\n",
        "drive = GoogleDrive(gauth)"
      ]
    },
    {
      "cell_type": "code",
      "execution_count": null,
      "metadata": {
        "colab": {
          "base_uri": "https://localhost:8080/"
        },
        "id": "mMpVSQWAhM6L",
        "outputId": "59cec51d-79ed-491c-f7b7-9f31c824f3bc"
      },
      "outputs": [
        {
          "output_type": "stream",
          "name": "stdout",
          "text": [
            "Mounted at /content/drive\n"
          ]
        }
      ],
      "source": [
        "from google.colab import drive\n",
        "drive.mount('/content/drive')"
      ]
    },
    {
      "cell_type": "markdown",
      "metadata": {
        "id": "hrILzCwchTfH"
      },
      "source": [
        "#**reading the dataset**"
      ]
    },
    {
      "cell_type": "code",
      "execution_count": null,
      "metadata": {
        "id": "h8znHFBvhAmE"
      },
      "outputs": [],
      "source": [
        "Ravdess= \"/content/drive/MyDrive/Normal & Abnormal\"\n",
        "ravdess_directory_list = os.listdir(Ravdess)"
      ]
    },
    {
      "cell_type": "markdown",
      "metadata": {
        "id": "7Et2WQl6hnbJ"
      },
      "source": [
        "#**balance the normal & abnormal class**\n",
        "#the number of datapoints in each class:\n",
        "- normal      418\n",
        "- abnormal    185\n",
        "     - it's not equaled or even class so we have to apply data augmentation on abnormal class to increase the number of data points"
      ]
    },
    {
      "cell_type": "code",
      "execution_count": null,
      "metadata": {
        "colab": {
          "base_uri": "https://localhost:8080/",
          "height": 206
        },
        "id": "qOgXP_GPhSwL",
        "outputId": "1461ae25-5b7f-4bad-badb-c0e2ecf43bf6"
      },
      "outputs": [
        {
          "output_type": "execute_result",
          "data": {
            "text/plain": [
              "                                           file_path   emotion\n",
              "0  /content/drive/MyDrive/Normal & Abnormal/augme...  abnormal\n",
              "1  /content/drive/MyDrive/Normal & Abnormal/norma...    normal\n",
              "2  /content/drive/MyDrive/Normal & Abnormal/norma...    normal\n",
              "3  /content/drive/MyDrive/Normal & Abnormal/norma...    normal\n",
              "4  /content/drive/MyDrive/Normal & Abnormal/norma...    normal"
            ],
            "text/html": [
              "\n",
              "  <div id=\"df-7f382056-77a4-4015-8dd6-09577e1bba17\" class=\"colab-df-container\">\n",
              "    <div>\n",
              "<style scoped>\n",
              "    .dataframe tbody tr th:only-of-type {\n",
              "        vertical-align: middle;\n",
              "    }\n",
              "\n",
              "    .dataframe tbody tr th {\n",
              "        vertical-align: top;\n",
              "    }\n",
              "\n",
              "    .dataframe thead th {\n",
              "        text-align: right;\n",
              "    }\n",
              "</style>\n",
              "<table border=\"1\" class=\"dataframe\">\n",
              "  <thead>\n",
              "    <tr style=\"text-align: right;\">\n",
              "      <th></th>\n",
              "      <th>file_path</th>\n",
              "      <th>emotion</th>\n",
              "    </tr>\n",
              "  </thead>\n",
              "  <tbody>\n",
              "    <tr>\n",
              "      <th>0</th>\n",
              "      <td>/content/drive/MyDrive/Normal &amp; Abnormal/augme...</td>\n",
              "      <td>abnormal</td>\n",
              "    </tr>\n",
              "    <tr>\n",
              "      <th>1</th>\n",
              "      <td>/content/drive/MyDrive/Normal &amp; Abnormal/norma...</td>\n",
              "      <td>normal</td>\n",
              "    </tr>\n",
              "    <tr>\n",
              "      <th>2</th>\n",
              "      <td>/content/drive/MyDrive/Normal &amp; Abnormal/norma...</td>\n",
              "      <td>normal</td>\n",
              "    </tr>\n",
              "    <tr>\n",
              "      <th>3</th>\n",
              "      <td>/content/drive/MyDrive/Normal &amp; Abnormal/norma...</td>\n",
              "      <td>normal</td>\n",
              "    </tr>\n",
              "    <tr>\n",
              "      <th>4</th>\n",
              "      <td>/content/drive/MyDrive/Normal &amp; Abnormal/norma...</td>\n",
              "      <td>normal</td>\n",
              "    </tr>\n",
              "  </tbody>\n",
              "</table>\n",
              "</div>\n",
              "    <div class=\"colab-df-buttons\">\n",
              "\n",
              "  <div class=\"colab-df-container\">\n",
              "    <button class=\"colab-df-convert\" onclick=\"convertToInteractive('df-7f382056-77a4-4015-8dd6-09577e1bba17')\"\n",
              "            title=\"Convert this dataframe to an interactive table.\"\n",
              "            style=\"display:none;\">\n",
              "\n",
              "  <svg xmlns=\"http://www.w3.org/2000/svg\" height=\"24px\" viewBox=\"0 -960 960 960\">\n",
              "    <path d=\"M120-120v-720h720v720H120Zm60-500h600v-160H180v160Zm220 220h160v-160H400v160Zm0 220h160v-160H400v160ZM180-400h160v-160H180v160Zm440 0h160v-160H620v160ZM180-180h160v-160H180v160Zm440 0h160v-160H620v160Z\"/>\n",
              "  </svg>\n",
              "    </button>\n",
              "\n",
              "  <style>\n",
              "    .colab-df-container {\n",
              "      display:flex;\n",
              "      gap: 12px;\n",
              "    }\n",
              "\n",
              "    .colab-df-convert {\n",
              "      background-color: #E8F0FE;\n",
              "      border: none;\n",
              "      border-radius: 50%;\n",
              "      cursor: pointer;\n",
              "      display: none;\n",
              "      fill: #1967D2;\n",
              "      height: 32px;\n",
              "      padding: 0 0 0 0;\n",
              "      width: 32px;\n",
              "    }\n",
              "\n",
              "    .colab-df-convert:hover {\n",
              "      background-color: #E2EBFA;\n",
              "      box-shadow: 0px 1px 2px rgba(60, 64, 67, 0.3), 0px 1px 3px 1px rgba(60, 64, 67, 0.15);\n",
              "      fill: #174EA6;\n",
              "    }\n",
              "\n",
              "    .colab-df-buttons div {\n",
              "      margin-bottom: 4px;\n",
              "    }\n",
              "\n",
              "    [theme=dark] .colab-df-convert {\n",
              "      background-color: #3B4455;\n",
              "      fill: #D2E3FC;\n",
              "    }\n",
              "\n",
              "    [theme=dark] .colab-df-convert:hover {\n",
              "      background-color: #434B5C;\n",
              "      box-shadow: 0px 1px 3px 1px rgba(0, 0, 0, 0.15);\n",
              "      filter: drop-shadow(0px 1px 2px rgba(0, 0, 0, 0.3));\n",
              "      fill: #FFFFFF;\n",
              "    }\n",
              "  </style>\n",
              "\n",
              "    <script>\n",
              "      const buttonEl =\n",
              "        document.querySelector('#df-7f382056-77a4-4015-8dd6-09577e1bba17 button.colab-df-convert');\n",
              "      buttonEl.style.display =\n",
              "        google.colab.kernel.accessAllowed ? 'block' : 'none';\n",
              "\n",
              "      async function convertToInteractive(key) {\n",
              "        const element = document.querySelector('#df-7f382056-77a4-4015-8dd6-09577e1bba17');\n",
              "        const dataTable =\n",
              "          await google.colab.kernel.invokeFunction('convertToInteractive',\n",
              "                                                    [key], {});\n",
              "        if (!dataTable) return;\n",
              "\n",
              "        const docLinkHtml = 'Like what you see? Visit the ' +\n",
              "          '<a target=\"_blank\" href=https://colab.research.google.com/notebooks/data_table.ipynb>data table notebook</a>'\n",
              "          + ' to learn more about interactive tables.';\n",
              "        element.innerHTML = '';\n",
              "        dataTable['output_type'] = 'display_data';\n",
              "        await google.colab.output.renderOutput(dataTable, element);\n",
              "        const docLink = document.createElement('div');\n",
              "        docLink.innerHTML = docLinkHtml;\n",
              "        element.appendChild(docLink);\n",
              "      }\n",
              "    </script>\n",
              "  </div>\n",
              "\n",
              "\n",
              "<div id=\"df-a4548431-335f-4d0c-8140-729df4c48408\">\n",
              "  <button class=\"colab-df-quickchart\" onclick=\"quickchart('df-a4548431-335f-4d0c-8140-729df4c48408')\"\n",
              "            title=\"Suggest charts\"\n",
              "            style=\"display:none;\">\n",
              "\n",
              "<svg xmlns=\"http://www.w3.org/2000/svg\" height=\"24px\"viewBox=\"0 0 24 24\"\n",
              "     width=\"24px\">\n",
              "    <g>\n",
              "        <path d=\"M19 3H5c-1.1 0-2 .9-2 2v14c0 1.1.9 2 2 2h14c1.1 0 2-.9 2-2V5c0-1.1-.9-2-2-2zM9 17H7v-7h2v7zm4 0h-2V7h2v10zm4 0h-2v-4h2v4z\"/>\n",
              "    </g>\n",
              "</svg>\n",
              "  </button>\n",
              "\n",
              "<style>\n",
              "  .colab-df-quickchart {\n",
              "      --bg-color: #E8F0FE;\n",
              "      --fill-color: #1967D2;\n",
              "      --hover-bg-color: #E2EBFA;\n",
              "      --hover-fill-color: #174EA6;\n",
              "      --disabled-fill-color: #AAA;\n",
              "      --disabled-bg-color: #DDD;\n",
              "  }\n",
              "\n",
              "  [theme=dark] .colab-df-quickchart {\n",
              "      --bg-color: #3B4455;\n",
              "      --fill-color: #D2E3FC;\n",
              "      --hover-bg-color: #434B5C;\n",
              "      --hover-fill-color: #FFFFFF;\n",
              "      --disabled-bg-color: #3B4455;\n",
              "      --disabled-fill-color: #666;\n",
              "  }\n",
              "\n",
              "  .colab-df-quickchart {\n",
              "    background-color: var(--bg-color);\n",
              "    border: none;\n",
              "    border-radius: 50%;\n",
              "    cursor: pointer;\n",
              "    display: none;\n",
              "    fill: var(--fill-color);\n",
              "    height: 32px;\n",
              "    padding: 0;\n",
              "    width: 32px;\n",
              "  }\n",
              "\n",
              "  .colab-df-quickchart:hover {\n",
              "    background-color: var(--hover-bg-color);\n",
              "    box-shadow: 0 1px 2px rgba(60, 64, 67, 0.3), 0 1px 3px 1px rgba(60, 64, 67, 0.15);\n",
              "    fill: var(--button-hover-fill-color);\n",
              "  }\n",
              "\n",
              "  .colab-df-quickchart-complete:disabled,\n",
              "  .colab-df-quickchart-complete:disabled:hover {\n",
              "    background-color: var(--disabled-bg-color);\n",
              "    fill: var(--disabled-fill-color);\n",
              "    box-shadow: none;\n",
              "  }\n",
              "\n",
              "  .colab-df-spinner {\n",
              "    border: 2px solid var(--fill-color);\n",
              "    border-color: transparent;\n",
              "    border-bottom-color: var(--fill-color);\n",
              "    animation:\n",
              "      spin 1s steps(1) infinite;\n",
              "  }\n",
              "\n",
              "  @keyframes spin {\n",
              "    0% {\n",
              "      border-color: transparent;\n",
              "      border-bottom-color: var(--fill-color);\n",
              "      border-left-color: var(--fill-color);\n",
              "    }\n",
              "    20% {\n",
              "      border-color: transparent;\n",
              "      border-left-color: var(--fill-color);\n",
              "      border-top-color: var(--fill-color);\n",
              "    }\n",
              "    30% {\n",
              "      border-color: transparent;\n",
              "      border-left-color: var(--fill-color);\n",
              "      border-top-color: var(--fill-color);\n",
              "      border-right-color: var(--fill-color);\n",
              "    }\n",
              "    40% {\n",
              "      border-color: transparent;\n",
              "      border-right-color: var(--fill-color);\n",
              "      border-top-color: var(--fill-color);\n",
              "    }\n",
              "    60% {\n",
              "      border-color: transparent;\n",
              "      border-right-color: var(--fill-color);\n",
              "    }\n",
              "    80% {\n",
              "      border-color: transparent;\n",
              "      border-right-color: var(--fill-color);\n",
              "      border-bottom-color: var(--fill-color);\n",
              "    }\n",
              "    90% {\n",
              "      border-color: transparent;\n",
              "      border-bottom-color: var(--fill-color);\n",
              "    }\n",
              "  }\n",
              "</style>\n",
              "\n",
              "  <script>\n",
              "    async function quickchart(key) {\n",
              "      const quickchartButtonEl =\n",
              "        document.querySelector('#' + key + ' button');\n",
              "      quickchartButtonEl.disabled = true;  // To prevent multiple clicks.\n",
              "      quickchartButtonEl.classList.add('colab-df-spinner');\n",
              "      try {\n",
              "        const charts = await google.colab.kernel.invokeFunction(\n",
              "            'suggestCharts', [key], {});\n",
              "      } catch (error) {\n",
              "        console.error('Error during call to suggestCharts:', error);\n",
              "      }\n",
              "      quickchartButtonEl.classList.remove('colab-df-spinner');\n",
              "      quickchartButtonEl.classList.add('colab-df-quickchart-complete');\n",
              "    }\n",
              "    (() => {\n",
              "      let quickchartButtonEl =\n",
              "        document.querySelector('#df-a4548431-335f-4d0c-8140-729df4c48408 button');\n",
              "      quickchartButtonEl.style.display =\n",
              "        google.colab.kernel.accessAllowed ? 'block' : 'none';\n",
              "    })();\n",
              "  </script>\n",
              "</div>\n",
              "\n",
              "    </div>\n",
              "  </div>\n"
            ],
            "application/vnd.google.colaboratory.intrinsic+json": {
              "type": "dataframe",
              "variable_name": "Ravdess_df",
              "summary": "{\n  \"name\": \"Ravdess_df\",\n  \"rows\": 788,\n  \"fields\": [\n    {\n      \"column\": \"file_path\",\n      \"properties\": {\n        \"dtype\": \"string\",\n        \"num_unique_values\": 788,\n        \"samples\": [\n          \"/content/drive/MyDrive/Normal & Abnormal/augmented_abnormal/06-01-51.wav_aug_0.wav\",\n          \"/content/drive/MyDrive/Normal & Abnormal/normal/01-08-46.wav\",\n          \"/content/drive/MyDrive/Normal & Abnormal/normal/01-04-21.wav\"\n        ],\n        \"semantic_type\": \"\",\n        \"description\": \"\"\n      }\n    },\n    {\n      \"column\": \"emotion\",\n      \"properties\": {\n        \"dtype\": \"category\",\n        \"num_unique_values\": 2,\n        \"samples\": [\n          \"normal\",\n          \"abnormal\"\n        ],\n        \"semantic_type\": \"\",\n        \"description\": \"\"\n      }\n    }\n  ]\n}"
            }
          },
          "metadata": {},
          "execution_count": 13
        }
      ],
      "source": [
        "import pandas as pd\n",
        "import os\n",
        "from pydub import AudioSegment\n",
        "from audiomentations import Compose, TimeStretch, PitchShift\n",
        "import soundfile as sf\n",
        "\n",
        "# Define data augmentation transformations\n",
        "augment = Compose([\n",
        "    TimeStretch(min_rate=0.8, max_rate=1.2, leave_length_unchanged=False),\n",
        "    PitchShift(min_semitones=-4, max_semitones=4),\n",
        "])\n",
        "\n",
        "# Function to apply data augmentation to audio files and save augmented files\n",
        "def augment_audio_files(file_paths, output_dir, num_augmentations=2):\n",
        "    for file_path in file_paths:\n",
        "        # Convert audio file to WAV format\n",
        "        audio = AudioSegment.from_file(file_path)\n",
        "        temp_wav_file = os.path.join(output_dir, \"temp.wav\")\n",
        "        audio.export(temp_wav_file, format=\"wav\")\n",
        "\n",
        "        # Read the WAV file using soundfile\n",
        "        audio, sample_rate = sf.read(temp_wav_file)\n",
        "        os.remove(temp_wav_file)  # Remove temporary WAV file\n",
        "\n",
        "        # Transpose audio array if necessary\n",
        "        if audio.ndim > 1:\n",
        "            audio = audio.T\n",
        "\n",
        "        # Apply data augmentation\n",
        "        for i in range(num_augmentations):\n",
        "            augmented_audio = augment(samples=audio, sample_rate=sample_rate)\n",
        "\n",
        "            # Transpose augmented audio back if necessary\n",
        "            if audio.ndim > 1:\n",
        "                augmented_audio = augmented_audio.T\n",
        "\n",
        "            output_file_path = os.path.join(output_dir, f\"{os.path.basename(file_path)}_aug_{i}.wav\")\n",
        "            sf.write(output_file_path, augmented_audio, sample_rate)\n",
        "\n",
        "# Assuming you have your audio files organized in directories\n",
        "normal_dir = \"/content/drive/MyDrive/Normal & Abnormal/normal\"\n",
        "abnormal_dir = \"/content/drive/MyDrive/Normal & Abnormal/abnormal\"\n",
        "\n",
        "# Get list of audio files in each directory\n",
        "normal_audios = [os.path.join(normal_dir, file) for file in os.listdir(normal_dir) if file.endswith('.wav')]\n",
        "abnormal_audios = [os.path.join(abnormal_dir, file) for file in os.listdir(abnormal_dir) if file.endswith('.wav')]\n",
        "\n",
        "# Create DataFrames for normal and abnormal classes\n",
        "df_normal = pd.DataFrame({'file_path': normal_audios, 'emotion': 'normal'})\n",
        "df_abnormal = pd.DataFrame({'file_path': abnormal_audios, 'emotion': 'abnormal'})\n",
        "\n",
        "# Calculate the difference in the number of samples between the two classes\n",
        "num_normal_samples = df_normal.shape[0]\n",
        "num_abnormal_samples = df_abnormal.shape[0]\n",
        "difference = num_normal_samples - num_abnormal_samples\n",
        "\n",
        "# Duplicate samples from the abnormal class to match the size of the normal class\n",
        "if difference > 0:\n",
        "    df_abnormal_duplicate = df_abnormal.sample(n=difference, replace=True, random_state=42)\n",
        "    df_abnormal = pd.concat([df_abnormal, df_abnormal_duplicate], ignore_index=True)\n",
        "\n",
        "# Apply data augmentation to the abnormal class\n",
        "augmented_abnormal_dir = \"/content/drive/MyDrive/Normal & Abnormal/augmented_abnormal\"\n",
        "os.makedirs(augmented_abnormal_dir, exist_ok=True)\n",
        "augment_audio_files(abnormal_audios, augmented_abnormal_dir, num_augmentations=2)\n",
        "\n",
        "# Get list of augmented abnormal audio files\n",
        "augmented_abnormal_audios = [os.path.join(augmented_abnormal_dir, file) for file in os.listdir(augmented_abnormal_dir) if file.endswith('.wav')]\n",
        "\n",
        "# Create DataFrame for augmented abnormal class\n",
        "df_augmented_abnormal = pd.DataFrame({'file_path': augmented_abnormal_audios, 'emotion': 'abnormal'})\n",
        "\n",
        "# Concatenate the balanced normal DataFrame with the augmented abnormal DataFrame\n",
        "Ravdess_df = pd.concat([df_normal, df_augmented_abnormal], ignore_index=True)\n",
        "\n",
        "# Shuffle the concatenated DataFrame\n",
        "Ravdess_df = Ravdess_df.sample(frac=1, random_state=42).reset_index(drop=True)\n",
        "\n",
        "# Optional: If you want to check the first few rows of the DataFrame\n",
        "Ravdess_df.head()\n"
      ]
    },
    {
      "cell_type": "code",
      "execution_count": null,
      "metadata": {
        "colab": {
          "base_uri": "https://localhost:8080/",
          "height": 206
        },
        "id": "f-QwM3hthhjc",
        "outputId": "4aa5a8fa-4e3d-4e76-c93d-1c25acfa3667"
      },
      "outputs": [
        {
          "output_type": "execute_result",
          "data": {
            "text/plain": [
              "                                           file_path   emotion\n",
              "0  /content/drive/MyDrive/Normal & Abnormal/augme...  abnormal\n",
              "1  /content/drive/MyDrive/Normal & Abnormal/norma...    normal\n",
              "2  /content/drive/MyDrive/Normal & Abnormal/norma...    normal\n",
              "3  /content/drive/MyDrive/Normal & Abnormal/norma...    normal\n",
              "4  /content/drive/MyDrive/Normal & Abnormal/norma...    normal"
            ],
            "text/html": [
              "\n",
              "  <div id=\"df-230ba706-77ff-41fc-93f0-6155f6c125f2\" class=\"colab-df-container\">\n",
              "    <div>\n",
              "<style scoped>\n",
              "    .dataframe tbody tr th:only-of-type {\n",
              "        vertical-align: middle;\n",
              "    }\n",
              "\n",
              "    .dataframe tbody tr th {\n",
              "        vertical-align: top;\n",
              "    }\n",
              "\n",
              "    .dataframe thead th {\n",
              "        text-align: right;\n",
              "    }\n",
              "</style>\n",
              "<table border=\"1\" class=\"dataframe\">\n",
              "  <thead>\n",
              "    <tr style=\"text-align: right;\">\n",
              "      <th></th>\n",
              "      <th>file_path</th>\n",
              "      <th>emotion</th>\n",
              "    </tr>\n",
              "  </thead>\n",
              "  <tbody>\n",
              "    <tr>\n",
              "      <th>0</th>\n",
              "      <td>/content/drive/MyDrive/Normal &amp; Abnormal/augme...</td>\n",
              "      <td>abnormal</td>\n",
              "    </tr>\n",
              "    <tr>\n",
              "      <th>1</th>\n",
              "      <td>/content/drive/MyDrive/Normal &amp; Abnormal/norma...</td>\n",
              "      <td>normal</td>\n",
              "    </tr>\n",
              "    <tr>\n",
              "      <th>2</th>\n",
              "      <td>/content/drive/MyDrive/Normal &amp; Abnormal/norma...</td>\n",
              "      <td>normal</td>\n",
              "    </tr>\n",
              "    <tr>\n",
              "      <th>3</th>\n",
              "      <td>/content/drive/MyDrive/Normal &amp; Abnormal/norma...</td>\n",
              "      <td>normal</td>\n",
              "    </tr>\n",
              "    <tr>\n",
              "      <th>4</th>\n",
              "      <td>/content/drive/MyDrive/Normal &amp; Abnormal/norma...</td>\n",
              "      <td>normal</td>\n",
              "    </tr>\n",
              "  </tbody>\n",
              "</table>\n",
              "</div>\n",
              "    <div class=\"colab-df-buttons\">\n",
              "\n",
              "  <div class=\"colab-df-container\">\n",
              "    <button class=\"colab-df-convert\" onclick=\"convertToInteractive('df-230ba706-77ff-41fc-93f0-6155f6c125f2')\"\n",
              "            title=\"Convert this dataframe to an interactive table.\"\n",
              "            style=\"display:none;\">\n",
              "\n",
              "  <svg xmlns=\"http://www.w3.org/2000/svg\" height=\"24px\" viewBox=\"0 -960 960 960\">\n",
              "    <path d=\"M120-120v-720h720v720H120Zm60-500h600v-160H180v160Zm220 220h160v-160H400v160Zm0 220h160v-160H400v160ZM180-400h160v-160H180v160Zm440 0h160v-160H620v160ZM180-180h160v-160H180v160Zm440 0h160v-160H620v160Z\"/>\n",
              "  </svg>\n",
              "    </button>\n",
              "\n",
              "  <style>\n",
              "    .colab-df-container {\n",
              "      display:flex;\n",
              "      gap: 12px;\n",
              "    }\n",
              "\n",
              "    .colab-df-convert {\n",
              "      background-color: #E8F0FE;\n",
              "      border: none;\n",
              "      border-radius: 50%;\n",
              "      cursor: pointer;\n",
              "      display: none;\n",
              "      fill: #1967D2;\n",
              "      height: 32px;\n",
              "      padding: 0 0 0 0;\n",
              "      width: 32px;\n",
              "    }\n",
              "\n",
              "    .colab-df-convert:hover {\n",
              "      background-color: #E2EBFA;\n",
              "      box-shadow: 0px 1px 2px rgba(60, 64, 67, 0.3), 0px 1px 3px 1px rgba(60, 64, 67, 0.15);\n",
              "      fill: #174EA6;\n",
              "    }\n",
              "\n",
              "    .colab-df-buttons div {\n",
              "      margin-bottom: 4px;\n",
              "    }\n",
              "\n",
              "    [theme=dark] .colab-df-convert {\n",
              "      background-color: #3B4455;\n",
              "      fill: #D2E3FC;\n",
              "    }\n",
              "\n",
              "    [theme=dark] .colab-df-convert:hover {\n",
              "      background-color: #434B5C;\n",
              "      box-shadow: 0px 1px 3px 1px rgba(0, 0, 0, 0.15);\n",
              "      filter: drop-shadow(0px 1px 2px rgba(0, 0, 0, 0.3));\n",
              "      fill: #FFFFFF;\n",
              "    }\n",
              "  </style>\n",
              "\n",
              "    <script>\n",
              "      const buttonEl =\n",
              "        document.querySelector('#df-230ba706-77ff-41fc-93f0-6155f6c125f2 button.colab-df-convert');\n",
              "      buttonEl.style.display =\n",
              "        google.colab.kernel.accessAllowed ? 'block' : 'none';\n",
              "\n",
              "      async function convertToInteractive(key) {\n",
              "        const element = document.querySelector('#df-230ba706-77ff-41fc-93f0-6155f6c125f2');\n",
              "        const dataTable =\n",
              "          await google.colab.kernel.invokeFunction('convertToInteractive',\n",
              "                                                    [key], {});\n",
              "        if (!dataTable) return;\n",
              "\n",
              "        const docLinkHtml = 'Like what you see? Visit the ' +\n",
              "          '<a target=\"_blank\" href=https://colab.research.google.com/notebooks/data_table.ipynb>data table notebook</a>'\n",
              "          + ' to learn more about interactive tables.';\n",
              "        element.innerHTML = '';\n",
              "        dataTable['output_type'] = 'display_data';\n",
              "        await google.colab.output.renderOutput(dataTable, element);\n",
              "        const docLink = document.createElement('div');\n",
              "        docLink.innerHTML = docLinkHtml;\n",
              "        element.appendChild(docLink);\n",
              "      }\n",
              "    </script>\n",
              "  </div>\n",
              "\n",
              "\n",
              "<div id=\"df-6734a376-be07-4025-bd16-0a3779f9c93a\">\n",
              "  <button class=\"colab-df-quickchart\" onclick=\"quickchart('df-6734a376-be07-4025-bd16-0a3779f9c93a')\"\n",
              "            title=\"Suggest charts\"\n",
              "            style=\"display:none;\">\n",
              "\n",
              "<svg xmlns=\"http://www.w3.org/2000/svg\" height=\"24px\"viewBox=\"0 0 24 24\"\n",
              "     width=\"24px\">\n",
              "    <g>\n",
              "        <path d=\"M19 3H5c-1.1 0-2 .9-2 2v14c0 1.1.9 2 2 2h14c1.1 0 2-.9 2-2V5c0-1.1-.9-2-2-2zM9 17H7v-7h2v7zm4 0h-2V7h2v10zm4 0h-2v-4h2v4z\"/>\n",
              "    </g>\n",
              "</svg>\n",
              "  </button>\n",
              "\n",
              "<style>\n",
              "  .colab-df-quickchart {\n",
              "      --bg-color: #E8F0FE;\n",
              "      --fill-color: #1967D2;\n",
              "      --hover-bg-color: #E2EBFA;\n",
              "      --hover-fill-color: #174EA6;\n",
              "      --disabled-fill-color: #AAA;\n",
              "      --disabled-bg-color: #DDD;\n",
              "  }\n",
              "\n",
              "  [theme=dark] .colab-df-quickchart {\n",
              "      --bg-color: #3B4455;\n",
              "      --fill-color: #D2E3FC;\n",
              "      --hover-bg-color: #434B5C;\n",
              "      --hover-fill-color: #FFFFFF;\n",
              "      --disabled-bg-color: #3B4455;\n",
              "      --disabled-fill-color: #666;\n",
              "  }\n",
              "\n",
              "  .colab-df-quickchart {\n",
              "    background-color: var(--bg-color);\n",
              "    border: none;\n",
              "    border-radius: 50%;\n",
              "    cursor: pointer;\n",
              "    display: none;\n",
              "    fill: var(--fill-color);\n",
              "    height: 32px;\n",
              "    padding: 0;\n",
              "    width: 32px;\n",
              "  }\n",
              "\n",
              "  .colab-df-quickchart:hover {\n",
              "    background-color: var(--hover-bg-color);\n",
              "    box-shadow: 0 1px 2px rgba(60, 64, 67, 0.3), 0 1px 3px 1px rgba(60, 64, 67, 0.15);\n",
              "    fill: var(--button-hover-fill-color);\n",
              "  }\n",
              "\n",
              "  .colab-df-quickchart-complete:disabled,\n",
              "  .colab-df-quickchart-complete:disabled:hover {\n",
              "    background-color: var(--disabled-bg-color);\n",
              "    fill: var(--disabled-fill-color);\n",
              "    box-shadow: none;\n",
              "  }\n",
              "\n",
              "  .colab-df-spinner {\n",
              "    border: 2px solid var(--fill-color);\n",
              "    border-color: transparent;\n",
              "    border-bottom-color: var(--fill-color);\n",
              "    animation:\n",
              "      spin 1s steps(1) infinite;\n",
              "  }\n",
              "\n",
              "  @keyframes spin {\n",
              "    0% {\n",
              "      border-color: transparent;\n",
              "      border-bottom-color: var(--fill-color);\n",
              "      border-left-color: var(--fill-color);\n",
              "    }\n",
              "    20% {\n",
              "      border-color: transparent;\n",
              "      border-left-color: var(--fill-color);\n",
              "      border-top-color: var(--fill-color);\n",
              "    }\n",
              "    30% {\n",
              "      border-color: transparent;\n",
              "      border-left-color: var(--fill-color);\n",
              "      border-top-color: var(--fill-color);\n",
              "      border-right-color: var(--fill-color);\n",
              "    }\n",
              "    40% {\n",
              "      border-color: transparent;\n",
              "      border-right-color: var(--fill-color);\n",
              "      border-top-color: var(--fill-color);\n",
              "    }\n",
              "    60% {\n",
              "      border-color: transparent;\n",
              "      border-right-color: var(--fill-color);\n",
              "    }\n",
              "    80% {\n",
              "      border-color: transparent;\n",
              "      border-right-color: var(--fill-color);\n",
              "      border-bottom-color: var(--fill-color);\n",
              "    }\n",
              "    90% {\n",
              "      border-color: transparent;\n",
              "      border-bottom-color: var(--fill-color);\n",
              "    }\n",
              "  }\n",
              "</style>\n",
              "\n",
              "  <script>\n",
              "    async function quickchart(key) {\n",
              "      const quickchartButtonEl =\n",
              "        document.querySelector('#' + key + ' button');\n",
              "      quickchartButtonEl.disabled = true;  // To prevent multiple clicks.\n",
              "      quickchartButtonEl.classList.add('colab-df-spinner');\n",
              "      try {\n",
              "        const charts = await google.colab.kernel.invokeFunction(\n",
              "            'suggestCharts', [key], {});\n",
              "      } catch (error) {\n",
              "        console.error('Error during call to suggestCharts:', error);\n",
              "      }\n",
              "      quickchartButtonEl.classList.remove('colab-df-spinner');\n",
              "      quickchartButtonEl.classList.add('colab-df-quickchart-complete');\n",
              "    }\n",
              "    (() => {\n",
              "      let quickchartButtonEl =\n",
              "        document.querySelector('#df-6734a376-be07-4025-bd16-0a3779f9c93a button');\n",
              "      quickchartButtonEl.style.display =\n",
              "        google.colab.kernel.accessAllowed ? 'block' : 'none';\n",
              "    })();\n",
              "  </script>\n",
              "</div>\n",
              "\n",
              "    </div>\n",
              "  </div>\n"
            ],
            "application/vnd.google.colaboratory.intrinsic+json": {
              "type": "dataframe",
              "variable_name": "data_path_copy",
              "summary": "{\n  \"name\": \"data_path_copy\",\n  \"rows\": 788,\n  \"fields\": [\n    {\n      \"column\": \"file_path\",\n      \"properties\": {\n        \"dtype\": \"string\",\n        \"num_unique_values\": 788,\n        \"samples\": [\n          \"/content/drive/MyDrive/Normal & Abnormal/augmented_abnormal/06-01-51.wav_aug_0.wav\",\n          \"/content/drive/MyDrive/Normal & Abnormal/normal/01-08-46.wav\",\n          \"/content/drive/MyDrive/Normal & Abnormal/normal/01-04-21.wav\"\n        ],\n        \"semantic_type\": \"\",\n        \"description\": \"\"\n      }\n    },\n    {\n      \"column\": \"emotion\",\n      \"properties\": {\n        \"dtype\": \"category\",\n        \"num_unique_values\": 2,\n        \"samples\": [\n          \"normal\",\n          \"abnormal\"\n        ],\n        \"semantic_type\": \"\",\n        \"description\": \"\"\n      }\n    }\n  ]\n}"
            }
          },
          "metadata": {},
          "execution_count": 14
        }
      ],
      "source": [
        "data_path = pd.concat([Ravdess_df], axis = 0)\n",
        "data_path.to_csv(\"data_path.csv\",index=False)\n",
        "data_path_copy=data_path.copy()\n",
        "data_path_copy.head()"
      ]
    },
    {
      "cell_type": "markdown",
      "metadata": {
        "id": "3TpaKWZOid6V"
      },
      "source": [
        "#check the balance of both classes\n",
        "\n",
        "         \n",
        "**now**:\n",
        "*   normal      418\n",
        "*   abnormal    370\n",
        "\n"
      ]
    },
    {
      "cell_type": "code",
      "execution_count": null,
      "metadata": {
        "colab": {
          "base_uri": "https://localhost:8080/",
          "height": 569
        },
        "id": "NLRVxlu9ia6x",
        "outputId": "d276bea6-e0b9-42ba-df1f-89cf9a452a06"
      },
      "outputs": [
        {
          "output_type": "display_data",
          "data": {
            "text/plain": [
              "<Figure size 640x480 with 1 Axes>"
            ],
            "image/png": "[encoded data removed]"
          },
          "metadata": {}
        },
        {
          "output_type": "stream",
          "name": "stdout",
          "text": [
            "Count of Files in Each Class:\n",
            "emotion\n",
            "normal      418\n",
            "abnormal    370\n",
            "Name: count, dtype: int64\n"
          ]
        }
      ],
      "source": [
        "plt.title('Count of Emotions', size=16)\n",
        "sns.countplot(data_path_copy.emotion)\n",
        "plt.ylabel('Count', size=12)\n",
        "plt.xlabel('Emotions', size=12)\n",
        "sns.despine(top=True, right=True, left=False, bottom=False)\n",
        "plt.show()\n",
        "\n",
        "print(\"Count of Files in Each Class:\")\n",
        "print(Ravdess_df['emotion'].value_counts())"
      ]
    },
    {
      "cell_type": "markdown",
      "metadata": {
        "id": "YH7bG8f-rFMY"
      },
      "source": [
        "#visualize the distribution of the data"
      ]
    },
    {
      "cell_type": "code",
      "execution_count": 16,
      "metadata": {
        "colab": {
          "base_uri": "https://localhost:8080/",
          "height": 768
        },
        "id": "qMzvVh9Gicjh",
        "outputId": "4c2a0723-538c-481d-d5c7-195fa5dd8acd"
      },
      "outputs": [
        {
          "output_type": "display_data",
          "data": {
            "text/plain": [
              "<Figure size 1000x800 with 1 Axes>"
            ],
            "image/png": "[encoded data removed]"
          },
          "metadata": {}
        },
        {
          "output_type": "stream",
          "name": "stdout",
          "text": [
            "Count of Files in Each Class:\n",
            "emotion\n",
            "normal      418\n",
            "abnormal    370\n",
            "Name: count, dtype: int64\n"
          ]
        }
      ],
      "source": [
        "# Define custom colors\n",
        "colors = ['thistle', 'darkviolet']\n",
        "\n",
        "# Plot a pie chart\n",
        "plt.figure(figsize=(10, 8))\n",
        "plt.title('Distribution of Emotions', size=16, weight='bold')  # Making the title bold\n",
        "pie = data_path_copy['emotion'].value_counts().plot.pie(colors=colors, autopct='%1.1f%%', startangle=140, textprops={'fontsize': 20})  # Increasing font size\n",
        "plt.ylabel('')\n",
        "\n",
        "# Add labels on the top right\n",
        "plt.legend(loc=\"upper right\", labels=data_path_copy['emotion'].value_counts().index, fontsize=12)  # Changing legend font size\n",
        "\n",
        "plt.show()\n",
        "\n",
        "print(\"Count of Files in Each Class:\")\n",
        "print(Ravdess_df['emotion'].value_counts())\n"
      ]
    },
    {
      "cell_type": "markdown",
      "metadata": {
        "id": "EL6wg3tBi463"
      },
      "source": [
        "#**feature Extraction**"
      ]
    },
    {
      "cell_type": "code",
      "execution_count": 18,
      "metadata": {
        "id": "3IXvVBD1ilOq"
      },
      "outputs": [],
      "source": [
        "import librosa\n",
        "import numpy as np\n",
        "\n",
        "def load_audio(path):\n",
        "    try:\n",
        "        # Try loading with librosa directly\n",
        "        data, sample_rate = librosa.load(path, sr=None)\n",
        "    except Exception as e:\n",
        "        # If loading fails, print a warning and use audioread\n",
        "        print(\"PySoundFile failed. Trying audioread instead.\")\n",
        "        data, sample_rate = librosa.load(path, sr=None)\n",
        "\n",
        "    return data, sample_rate\n",
        "\n",
        "def noise(data):\n",
        "    noise_amp = 0.035 * np.random.uniform() * np.amax(data)\n",
        "    data = data + noise_amp * np.random.normal(size=data.shape[0])\n",
        "    return data\n",
        "\n",
        "def stretch(data, rate=0.8):\n",
        "    return librosa.effects.time_stretch(data, rate=rate)\n",
        "\n",
        "\n",
        "def extract_features(data, sample_rate):\n",
        "    result = np.array([])\n",
        "    # ZCR\n",
        "    zcr = np.mean(librosa.feature.zero_crossing_rate(y=data).T, axis=0)\n",
        "    result = np.hstack((result, zcr))  # stacking horizontally\n",
        "\n",
        "    # Chroma_stft\n",
        "    stft = np.abs(librosa.stft(data))\n",
        "    chroma_stft = np.mean(librosa.feature.chroma_stft(S=stft, sr=sample_rate).T, axis=0)\n",
        "    result = np.hstack((result, chroma_stft))  # stacking horizontally\n",
        "\n",
        "    # MFCC\n",
        "    mfcc = np.mean(librosa.feature.mfcc(y=data, sr=sample_rate).T, axis=0)\n",
        "    result = np.hstack((result, mfcc))  # stacking horizontally\n",
        "\n",
        "    # Root Mean Square Value\n",
        "    rms = np.mean(librosa.feature.rms(y=data).T, axis=0)\n",
        "    result = np.hstack((result, rms))  # stacking horizontally\n",
        "\n",
        "    # MelSpectogram\n",
        "    mel = np.mean(librosa.feature.melspectrogram(y=data, sr=sample_rate).T, axis=0)\n",
        "    result = np.hstack((result, mel))  # stacking horizontally\n",
        "\n",
        "    return result\n",
        "\n",
        "def get_features(path):\n",
        "    data, sample_rate = load_audio(path)\n",
        "\n",
        "    # without augmentation\n",
        "    res1 = extract_features(data, sample_rate)\n",
        "    result = np.array(res1)\n",
        "\n",
        "    # data with noise\n",
        "    noise_data = noise(data)\n",
        "    res2 = extract_features(noise_data, sample_rate)\n",
        "    result = np.vstack((result, res2))  # stacking vertically\n",
        "\n",
        "    # data with stretching\n",
        "    new_data = stretch(data, rate=1.0)\n",
        "    res3 = extract_features(new_data, sample_rate)\n",
        "    result = np.vstack((result, res3))  # stacking vertically\n",
        "\n",
        "    return result\n",
        "\n",
        "X, Y = [], []\n",
        "for path, emotion in zip(data_path_copy.file_path, data_path_copy.emotion):\n",
        "    feature = get_features(path)\n",
        "    for ele in feature:\n",
        "        X.append(ele)\n",
        "        # appending emotion 3 times as we have made 3 augmentation techniques on each audio file.\n",
        "        Y.append(emotion)\n"
      ]
    },
    {
      "cell_type": "code",
      "execution_count": 19,
      "metadata": {
        "colab": {
          "base_uri": "https://localhost:8080/"
        },
        "id": "K8C37OZVi2TL",
        "outputId": "2b60ebcd-cca3-4d4b-f5fa-a82ba858a64e"
      },
      "outputs": [
        {
          "output_type": "execute_result",
          "data": {
            "text/plain": [
              "(2364, 2364, (788,))"
            ]
          },
          "metadata": {},
          "execution_count": 19
        }
      ],
      "source": [
        "len(X), len(Y), data_path_copy.file_path.shape"
      ]
    },
    {
      "cell_type": "code",
      "execution_count": 20,
      "metadata": {
        "id": "j619TgmRjBk4"
      },
      "outputs": [],
      "source": [
        "Features = pd.DataFrame(X)\n",
        "Features['labels'] = Y\n",
        "Features.to_csv('features.csv', index=False)"
      ]
    },
    {
      "cell_type": "markdown",
      "metadata": {
        "id": "Dv-8sUUXjQZ3"
      },
      "source": [
        "#**Data preparation**"
      ]
    },
    {
      "cell_type": "code",
      "execution_count": 21,
      "metadata": {
        "id": "jngL4N6zjER6"
      },
      "outputs": [],
      "source": [
        "X = Features.iloc[: ,:-1].values\n",
        "Y = Features['labels'].values"
      ]
    },
    {
      "cell_type": "code",
      "execution_count": 22,
      "metadata": {
        "colab": {
          "base_uri": "https://localhost:8080/"
        },
        "id": "UPNpPt-pjgOt",
        "outputId": "746a4056-9051-44a2-fc45-977214731dd3"
      },
      "outputs": [
        {
          "output_type": "execute_result",
          "data": {
            "text/plain": [
              "((2364, 162), (2364,))"
            ]
          },
          "metadata": {},
          "execution_count": 22
        }
      ],
      "source": [
        "X.shape , Y.shape"
      ]
    },
    {
      "cell_type": "code",
      "execution_count": 23,
      "metadata": {
        "id": "R7mBa6YijjRQ"
      },
      "outputs": [],
      "source": [
        "# As this is a multiclass classification problem onehotencoding our Y.\n",
        "encoder = OneHotEncoder()\n",
        "Y = encoder.fit_transform(np.array(Y).reshape(-1,1)).toarray()"
      ]
    },
    {
      "cell_type": "code",
      "execution_count": 24,
      "metadata": {
        "colab": {
          "base_uri": "https://localhost:8080/"
        },
        "id": "M-BsmksCjmF1",
        "outputId": "49b58172-1894-4e4d-a6a3-78998975f1af"
      },
      "outputs": [
        {
          "output_type": "execute_result",
          "data": {
            "text/plain": [
              "((1773, 162), (1773, 2), (591, 162), (591, 2))"
            ]
          },
          "metadata": {},
          "execution_count": 24
        }
      ],
      "source": [
        "# splitting data\n",
        "x_train, x_test, y_train, y_test = train_test_split(X, Y, random_state=0, shuffle=True)\n",
        "x_train.shape, y_train.shape, x_test.shape, y_test.shape"
      ]
    },
    {
      "cell_type": "code",
      "execution_count": 25,
      "metadata": {
        "colab": {
          "base_uri": "https://localhost:8080/"
        },
        "id": "bn-fq4rvjnsp",
        "outputId": "5d58dc7e-e1fc-4618-e543-25f41385c826"
      },
      "outputs": [
        {
          "output_type": "execute_result",
          "data": {
            "text/plain": [
              "((1773, 162), (1773, 2), (591, 162), (591, 2))"
            ]
          },
          "metadata": {},
          "execution_count": 25
        }
      ],
      "source": [
        "# scaling our data with sklearn's Standard scaler\n",
        "scaler = StandardScaler()\n",
        "x_train = scaler.fit_transform(x_train)\n",
        "x_test = scaler.transform(x_test)\n",
        "x_train.shape, y_train.shape, x_test.shape, y_test.shape"
      ]
    },
    {
      "cell_type": "code",
      "execution_count": 26,
      "metadata": {
        "colab": {
          "base_uri": "https://localhost:8080/"
        },
        "id": "C1vVtf7-joWH",
        "outputId": "c375eda4-514a-4a44-939d-50185fb3dc50"
      },
      "outputs": [
        {
          "output_type": "execute_result",
          "data": {
            "text/plain": [
              "((1773, 162, 1), (1773, 2), (591, 162, 1), (591, 2))"
            ]
          },
          "metadata": {},
          "execution_count": 26
        }
      ],
      "source": [
        "# making our data compatible to model.\n",
        "x_train = np.expand_dims(x_train, axis=2)\n",
        "x_test = np.expand_dims(x_test, axis=2)\n",
        "x_train.shape, y_train.shape, x_test.shape, y_test.shape"
      ]
    },
    {
      "cell_type": "markdown",
      "metadata": {
        "id": "TIVBw9MGjt7d"
      },
      "source": [
        "#**Modeling**\n",
        " - ANN"
      ]
    },
    {
      "cell_type": "code",
      "source": [
        "# Define early stopping callback\n",
        "early_stopping = EarlyStopping(monitor='val_loss', patience=5, restore_best_weights=True)\n",
        "\n",
        "# Define model checkpoint callback to save the best weights\n",
        "model_checkpoint = ModelCheckpoint(filepath='best_weights.h5', monitor='val_loss', save_best_only=True, save_weights_only=True)\n",
        "\n",
        "# Define the model\n",
        "model = Sequential()\n",
        "\n",
        "# Flatten the input data\n",
        "model.add(Flatten(input_shape=(162, 1)))\n",
        "\n",
        "# Add dense layers\n",
        "model.add(Dense(256, activation='relu'))\n",
        "model.add(Dense(128, activation='relu'))\n",
        "model.add(Dense(64, activation='relu'))\n",
        "\n",
        "# Output layer with softmax activation for multi-class classification\n",
        "model.add(Dense(2, activation='sigmoid'))\n",
        "\n",
        "# Compile the model with custom learning rate\n",
        "optimizer = Adam(learning_rate=1e-4)\n",
        "model.compile(optimizer=optimizer, loss='categorical_crossentropy', metrics=['accuracy'])\n",
        "\n",
        "# Print the model summary\n",
        "model.summary()"
      ],
      "metadata": {
        "colab": {
          "base_uri": "https://localhost:8080/"
        },
        "id": "vTv15q677-Ea",
        "outputId": "9c9beb7f-7249-45a9-b84a-288a82de1260"
      },
      "execution_count": 27,
      "outputs": [
        {
          "output_type": "stream",
          "name": "stdout",
          "text": [
            "Model: \"sequential\"\n",
            "_________________________________________________________________\n",
            " Layer (type)                Output Shape              Param #   \n",
            "=================================================================\n",
            " flatten (Flatten)           (None, 162)               0         \n",
            "                                                                 \n",
            " dense (Dense)               (None, 256)               41728     \n",
            "                                                                 \n",
            " dense_1 (Dense)             (None, 128)               32896     \n",
            "                                                                 \n",
            " dense_2 (Dense)             (None, 64)                8256      \n",
            "                                                                 \n",
            " dense_3 (Dense)             (None, 2)                 130       \n",
            "                                                                 \n",
            "=================================================================\n",
            "Total params: 83010 (324.26 KB)\n",
            "Trainable params: 83010 (324.26 KB)\n",
            "Non-trainable params: 0 (0.00 Byte)\n",
            "_________________________________________________________________\n"
          ]
        }
      ]
    },
    {
      "cell_type": "markdown",
      "metadata": {
        "id": "VRWyKek7j7BR"
      },
      "source": [
        "#model training"
      ]
    },
    {
      "cell_type": "code",
      "source": [
        "# Fit the model to the training data with early stopping and model checkpoint\n",
        "history = model.fit(x_train, y_train, batch_size=8, epochs=50, validation_data=(x_test, y_test), callbacks=[early_stopping, model_checkpoint])\n",
        "\n",
        "# Evaluate the model on the test data\n",
        "loss, accuracy = model.evaluate(x_test, y_test)\n",
        "\n",
        "print(\"Test Loss:\", loss)\n",
        "print(\"Test Accuracy:\", accuracy)"
      ],
      "metadata": {
        "id": "D7Sndv-_8a3M",
        "colab": {
          "base_uri": "https://localhost:8080/"
        },
        "outputId": "cb6720b2-9094-4690-c570-f625e962d812"
      },
      "execution_count": 28,
      "outputs": [
        {
          "output_type": "stream",
          "name": "stdout",
          "text": [
            "Epoch 1/50\n",
            "222/222 [==============================] - 7s 13ms/step - loss: 0.6103 - accuracy: 0.6983 - val_loss: 0.4428 - val_accuracy: 0.8071\n",
            "Epoch 2/50\n",
            "222/222 [==============================] - 1s 7ms/step - loss: 0.3846 - accuracy: 0.8252 - val_loss: 0.3582 - val_accuracy: 0.8460\n",
            "Epoch 3/50\n",
            "222/222 [==============================] - 2s 8ms/step - loss: 0.2997 - accuracy: 0.8742 - val_loss: 0.3099 - val_accuracy: 0.8613\n",
            "Epoch 4/50\n",
            "222/222 [==============================] - 1s 4ms/step - loss: 0.2413 - accuracy: 0.9126 - val_loss: 0.2690 - val_accuracy: 0.8917\n",
            "Epoch 5/50\n",
            "222/222 [==============================] - 1s 3ms/step - loss: 0.1986 - accuracy: 0.9323 - val_loss: 0.2381 - val_accuracy: 0.9036\n",
            "Epoch 6/50\n",
            "222/222 [==============================] - 1s 4ms/step - loss: 0.1605 - accuracy: 0.9475 - val_loss: 0.2022 - val_accuracy: 0.9323\n",
            "Epoch 7/50\n",
            "222/222 [==============================] - 1s 3ms/step - loss: 0.1282 - accuracy: 0.9656 - val_loss: 0.1760 - val_accuracy: 0.9492\n",
            "Epoch 8/50\n",
            "222/222 [==============================] - 1s 3ms/step - loss: 0.1016 - accuracy: 0.9752 - val_loss: 0.1480 - val_accuracy: 0.9526\n",
            "Epoch 9/50\n",
            "222/222 [==============================] - 1s 4ms/step - loss: 0.0804 - accuracy: 0.9842 - val_loss: 0.1344 - val_accuracy: 0.9594\n",
            "Epoch 10/50\n",
            "222/222 [==============================] - 1s 3ms/step - loss: 0.0629 - accuracy: 0.9887 - val_loss: 0.1202 - val_accuracy: 0.9611\n",
            "Epoch 11/50\n",
            "222/222 [==============================] - 1s 4ms/step - loss: 0.0504 - accuracy: 0.9910 - val_loss: 0.1014 - val_accuracy: 0.9695\n",
            "Epoch 12/50\n",
            "222/222 [==============================] - 1s 6ms/step - loss: 0.0385 - accuracy: 0.9955 - val_loss: 0.0961 - val_accuracy: 0.9712\n",
            "Epoch 13/50\n",
            "222/222 [==============================] - 1s 6ms/step - loss: 0.0321 - accuracy: 0.9949 - val_loss: 0.0857 - val_accuracy: 0.9712\n",
            "Epoch 14/50\n",
            "222/222 [==============================] - 2s 7ms/step - loss: 0.0255 - accuracy: 0.9966 - val_loss: 0.0784 - val_accuracy: 0.9679\n",
            "Epoch 15/50\n",
            "222/222 [==============================] - 1s 5ms/step - loss: 0.0207 - accuracy: 0.9961 - val_loss: 0.0750 - val_accuracy: 0.9712\n",
            "Epoch 16/50\n",
            "222/222 [==============================] - 1s 4ms/step - loss: 0.0172 - accuracy: 0.9961 - val_loss: 0.0659 - val_accuracy: 0.9746\n",
            "Epoch 17/50\n",
            "222/222 [==============================] - 1s 4ms/step - loss: 0.0139 - accuracy: 0.9977 - val_loss: 0.0660 - val_accuracy: 0.9763\n",
            "Epoch 18/50\n",
            "222/222 [==============================] - 1s 4ms/step - loss: 0.0097 - accuracy: 0.9989 - val_loss: 0.0762 - val_accuracy: 0.9712\n",
            "Epoch 19/50\n",
            "222/222 [==============================] - 1s 4ms/step - loss: 0.0077 - accuracy: 0.9994 - val_loss: 0.0588 - val_accuracy: 0.9763\n",
            "Epoch 20/50\n",
            "222/222 [==============================] - 1s 4ms/step - loss: 0.0067 - accuracy: 0.9994 - val_loss: 0.0660 - val_accuracy: 0.9797\n",
            "Epoch 21/50\n",
            "222/222 [==============================] - 1s 3ms/step - loss: 0.0064 - accuracy: 0.9994 - val_loss: 0.0644 - val_accuracy: 0.9797\n",
            "Epoch 22/50\n",
            "222/222 [==============================] - 1s 3ms/step - loss: 0.0041 - accuracy: 1.0000 - val_loss: 0.0604 - val_accuracy: 0.9763\n",
            "Epoch 23/50\n",
            "222/222 [==============================] - 1s 4ms/step - loss: 0.0033 - accuracy: 1.0000 - val_loss: 0.0550 - val_accuracy: 0.9780\n",
            "Epoch 24/50\n",
            "222/222 [==============================] - 1s 3ms/step - loss: 0.0028 - accuracy: 1.0000 - val_loss: 0.0614 - val_accuracy: 0.9831\n",
            "Epoch 25/50\n",
            "222/222 [==============================] - 1s 4ms/step - loss: 0.0022 - accuracy: 1.0000 - val_loss: 0.0554 - val_accuracy: 0.9814\n",
            "Epoch 26/50\n",
            "222/222 [==============================] - 1s 3ms/step - loss: 0.0015 - accuracy: 1.0000 - val_loss: 0.0563 - val_accuracy: 0.9831\n",
            "Epoch 27/50\n",
            "222/222 [==============================] - 1s 4ms/step - loss: 0.0012 - accuracy: 1.0000 - val_loss: 0.0593 - val_accuracy: 0.9780\n",
            "Epoch 28/50\n",
            "222/222 [==============================] - 1s 6ms/step - loss: 0.0011 - accuracy: 1.0000 - val_loss: 0.0532 - val_accuracy: 0.9763\n",
            "Epoch 29/50\n",
            "222/222 [==============================] - 1s 6ms/step - loss: 9.1805e-04 - accuracy: 1.0000 - val_loss: 0.0517 - val_accuracy: 0.9814\n",
            "Epoch 30/50\n",
            "222/222 [==============================] - 1s 6ms/step - loss: 7.2757e-04 - accuracy: 1.0000 - val_loss: 0.0569 - val_accuracy: 0.9814\n",
            "Epoch 31/50\n",
            "222/222 [==============================] - 1s 5ms/step - loss: 6.9516e-04 - accuracy: 1.0000 - val_loss: 0.0579 - val_accuracy: 0.9814\n",
            "Epoch 32/50\n",
            "222/222 [==============================] - 1s 3ms/step - loss: 5.0952e-04 - accuracy: 1.0000 - val_loss: 0.0552 - val_accuracy: 0.9831\n",
            "Epoch 33/50\n",
            "222/222 [==============================] - 1s 3ms/step - loss: 4.4141e-04 - accuracy: 1.0000 - val_loss: 0.0529 - val_accuracy: 0.9814\n",
            "Epoch 34/50\n",
            "222/222 [==============================] - 1s 3ms/step - loss: 3.9442e-04 - accuracy: 1.0000 - val_loss: 0.0564 - val_accuracy: 0.9831\n",
            "19/19 [==============================] - 0s 2ms/step - loss: 0.0517 - accuracy: 0.9814\n",
            "Test Loss: 0.051730960607528687\n",
            "Test Accuracy: 0.9813874959945679\n"
          ]
        }
      ]
    },
    {
      "cell_type": "markdown",
      "metadata": {
        "id": "yFyH3odzkO-q"
      },
      "source": [
        "#**ROC & AUC"
      ]
    },
    {
      "cell_type": "code",
      "execution_count": 29,
      "metadata": {
        "id": "DOM77TS8kKnF",
        "colab": {
          "base_uri": "https://localhost:8080/",
          "height": 450
        },
        "outputId": "39386a12-7cf5-44e3-fbaa-fcb8b814df6f"
      },
      "outputs": [
        {
          "output_type": "display_data",
          "data": {
            "text/plain": [
              "<Figure size 2000x600 with 2 Axes>"
            ],
            "image/png": "[encoded data removed]"
          },
          "metadata": {}
        }
      ],
      "source": [
        "#ANN\n",
        "epochs = [i for i in range(50)]\n",
        "train_acc = history.history['accuracy']\n",
        "train_loss = history.history['loss']\n",
        "test_acc = history.history['val_accuracy']\n",
        "test_loss = history.history['val_loss']\n",
        "\n",
        "# Ensure that epochs, train_loss, and test_loss have the same length\n",
        "min_length = min(len(epochs), len(train_loss), len(test_loss))\n",
        "epochs = epochs[:min_length]\n",
        "train_acc = history.history['accuracy']\n",
        "train_loss = train_loss[:min_length]\n",
        "test_loss = test_loss[:min_length]\n",
        "\n",
        "# Plot the training and testing loss\n",
        "fig, ax = plt.subplots(1, 2, figsize=(20, 6))\n",
        "\n",
        "ax[0].plot(epochs, train_loss, label='Training Loss')\n",
        "ax[0].plot(epochs, test_loss, label='Testing Loss')\n",
        "ax[0].set_title('Training & Testing Loss')\n",
        "ax[0].set_xlabel('Epoch')\n",
        "ax[0].set_ylabel('Loss')\n",
        "ax[0].legend()\n",
        "\n",
        "# Trim the train_acc array to match the length of epochs\n",
        "train_acc = train_acc[:len(epochs)]\n",
        "\n",
        "# Assuming you have the necessary arrays: accuracy\n",
        "# Plot the accuracy\n",
        "ax[1].plot(epochs, train_acc, label='Accuracy')\n",
        "ax[1].set_title('Accuracy')\n",
        "ax[1].set_xlabel('Epoch')\n",
        "ax[1].set_ylabel('Accuracy')\n",
        "ax[1].legend()\n",
        "\n",
        "plt.show()"
      ]
    },
    {
      "cell_type": "code",
      "execution_count": 30,
      "metadata": {
        "id": "kDuZ3vrpkf5d",
        "colab": {
          "base_uri": "https://localhost:8080/"
        },
        "outputId": "b535576d-8907-4454-fb96-02946386b67a"
      },
      "outputs": [
        {
          "output_type": "stream",
          "name": "stdout",
          "text": [
            "19/19 [==============================] - 0s 2ms/step\n"
          ]
        }
      ],
      "source": [
        "# predicting on test data on ANN.\n",
        "pred_test = model.predict(x_test)\n",
        "y_pred = encoder.inverse_transform(pred_test)\n",
        "y_test = encoder.inverse_transform(y_test)"
      ]
    },
    {
      "cell_type": "code",
      "execution_count": 31,
      "metadata": {
        "id": "_W-myVHSkkHt",
        "colab": {
          "base_uri": "https://localhost:8080/",
          "height": 676
        },
        "outputId": "fb8b44ca-c753-4b3e-fac3-9dc9aceba792"
      },
      "outputs": [
        {
          "output_type": "execute_result",
          "data": {
            "text/plain": [
              "   Predicted Labels Actual Labels\n",
              "0            normal        normal\n",
              "1            normal        normal\n",
              "2            normal        normal\n",
              "3            normal        normal\n",
              "4            normal        normal\n",
              "5            normal        normal\n",
              "6            normal        normal\n",
              "7          abnormal      abnormal\n",
              "8          abnormal      abnormal\n",
              "9          abnormal      abnormal\n",
              "10           normal        normal\n",
              "11           normal        normal\n",
              "12           normal        normal\n",
              "13           normal        normal\n",
              "14           normal        normal\n",
              "15           normal        normal\n",
              "16         abnormal      abnormal\n",
              "17         abnormal      abnormal\n",
              "18           normal        normal\n",
              "19           normal        normal"
            ],
            "text/html": [
              "\n",
              "  <div id=\"df-42395880-ce68-45b3-8c36-d77e84533909\" class=\"colab-df-container\">\n",
              "    <div>\n",
              "<style scoped>\n",
              "    .dataframe tbody tr th:only-of-type {\n",
              "        vertical-align: middle;\n",
              "    }\n",
              "\n",
              "    .dataframe tbody tr th {\n",
              "        vertical-align: top;\n",
              "    }\n",
              "\n",
              "    .dataframe thead th {\n",
              "        text-align: right;\n",
              "    }\n",
              "</style>\n",
              "<table border=\"1\" class=\"dataframe\">\n",
              "  <thead>\n",
              "    <tr style=\"text-align: right;\">\n",
              "      <th></th>\n",
              "      <th>Predicted Labels</th>\n",
              "      <th>Actual Labels</th>\n",
              "    </tr>\n",
              "  </thead>\n",
              "  <tbody>\n",
              "    <tr>\n",
              "      <th>0</th>\n",
              "      <td>normal</td>\n",
              "      <td>normal</td>\n",
              "    </tr>\n",
              "    <tr>\n",
              "      <th>1</th>\n",
              "      <td>normal</td>\n",
              "      <td>normal</td>\n",
              "    </tr>\n",
              "    <tr>\n",
              "      <th>2</th>\n",
              "      <td>normal</td>\n",
              "      <td>normal</td>\n",
              "    </tr>\n",
              "    <tr>\n",
              "      <th>3</th>\n",
              "      <td>normal</td>\n",
              "      <td>normal</td>\n",
              "    </tr>\n",
              "    <tr>\n",
              "      <th>4</th>\n",
              "      <td>normal</td>\n",
              "      <td>normal</td>\n",
              "    </tr>\n",
              "    <tr>\n",
              "      <th>5</th>\n",
              "      <td>normal</td>\n",
              "      <td>normal</td>\n",
              "    </tr>\n",
              "    <tr>\n",
              "      <th>6</th>\n",
              "      <td>normal</td>\n",
              "      <td>normal</td>\n",
              "    </tr>\n",
              "    <tr>\n",
              "      <th>7</th>\n",
              "      <td>abnormal</td>\n",
              "      <td>abnormal</td>\n",
              "    </tr>\n",
              "    <tr>\n",
              "      <th>8</th>\n",
              "      <td>abnormal</td>\n",
              "      <td>abnormal</td>\n",
              "    </tr>\n",
              "    <tr>\n",
              "      <th>9</th>\n",
              "      <td>abnormal</td>\n",
              "      <td>abnormal</td>\n",
              "    </tr>\n",
              "    <tr>\n",
              "      <th>10</th>\n",
              "      <td>normal</td>\n",
              "      <td>normal</td>\n",
              "    </tr>\n",
              "    <tr>\n",
              "      <th>11</th>\n",
              "      <td>normal</td>\n",
              "      <td>normal</td>\n",
              "    </tr>\n",
              "    <tr>\n",
              "      <th>12</th>\n",
              "      <td>normal</td>\n",
              "      <td>normal</td>\n",
              "    </tr>\n",
              "    <tr>\n",
              "      <th>13</th>\n",
              "      <td>normal</td>\n",
              "      <td>normal</td>\n",
              "    </tr>\n",
              "    <tr>\n",
              "      <th>14</th>\n",
              "      <td>normal</td>\n",
              "      <td>normal</td>\n",
              "    </tr>\n",
              "    <tr>\n",
              "      <th>15</th>\n",
              "      <td>normal</td>\n",
              "      <td>normal</td>\n",
              "    </tr>\n",
              "    <tr>\n",
              "      <th>16</th>\n",
              "      <td>abnormal</td>\n",
              "      <td>abnormal</td>\n",
              "    </tr>\n",
              "    <tr>\n",
              "      <th>17</th>\n",
              "      <td>abnormal</td>\n",
              "      <td>abnormal</td>\n",
              "    </tr>\n",
              "    <tr>\n",
              "      <th>18</th>\n",
              "      <td>normal</td>\n",
              "      <td>normal</td>\n",
              "    </tr>\n",
              "    <tr>\n",
              "      <th>19</th>\n",
              "      <td>normal</td>\n",
              "      <td>normal</td>\n",
              "    </tr>\n",
              "  </tbody>\n",
              "</table>\n",
              "</div>\n",
              "    <div class=\"colab-df-buttons\">\n",
              "\n",
              "  <div class=\"colab-df-container\">\n",
              "    <button class=\"colab-df-convert\" onclick=\"convertToInteractive('df-42395880-ce68-45b3-8c36-d77e84533909')\"\n",
              "            title=\"Convert this dataframe to an interactive table.\"\n",
              "            style=\"display:none;\">\n",
              "\n",
              "  <svg xmlns=\"http://www.w3.org/2000/svg\" height=\"24px\" viewBox=\"0 -960 960 960\">\n",
              "    <path d=\"M120-120v-720h720v720H120Zm60-500h600v-160H180v160Zm220 220h160v-160H400v160Zm0 220h160v-160H400v160ZM180-400h160v-160H180v160Zm440 0h160v-160H620v160ZM180-180h160v-160H180v160Zm440 0h160v-160H620v160Z\"/>\n",
              "  </svg>\n",
              "    </button>\n",
              "\n",
              "  <style>\n",
              "    .colab-df-container {\n",
              "      display:flex;\n",
              "      gap: 12px;\n",
              "    }\n",
              "\n",
              "    .colab-df-convert {\n",
              "      background-color: #E8F0FE;\n",
              "      border: none;\n",
              "      border-radius: 50%;\n",
              "      cursor: pointer;\n",
              "      display: none;\n",
              "      fill: #1967D2;\n",
              "      height: 32px;\n",
              "      padding: 0 0 0 0;\n",
              "      width: 32px;\n",
              "    }\n",
              "\n",
              "    .colab-df-convert:hover {\n",
              "      background-color: #E2EBFA;\n",
              "      box-shadow: 0px 1px 2px rgba(60, 64, 67, 0.3), 0px 1px 3px 1px rgba(60, 64, 67, 0.15);\n",
              "      fill: #174EA6;\n",
              "    }\n",
              "\n",
              "    .colab-df-buttons div {\n",
              "      margin-bottom: 4px;\n",
              "    }\n",
              "\n",
              "    [theme=dark] .colab-df-convert {\n",
              "      background-color: #3B4455;\n",
              "      fill: #D2E3FC;\n",
              "    }\n",
              "\n",
              "    [theme=dark] .colab-df-convert:hover {\n",
              "      background-color: #434B5C;\n",
              "      box-shadow: 0px 1px 3px 1px rgba(0, 0, 0, 0.15);\n",
              "      filter: drop-shadow(0px 1px 2px rgba(0, 0, 0, 0.3));\n",
              "      fill: #FFFFFF;\n",
              "    }\n",
              "  </style>\n",
              "\n",
              "    <script>\n",
              "      const buttonEl =\n",
              "        document.querySelector('#df-42395880-ce68-45b3-8c36-d77e84533909 button.colab-df-convert');\n",
              "      buttonEl.style.display =\n",
              "        google.colab.kernel.accessAllowed ? 'block' : 'none';\n",
              "\n",
              "      async function convertToInteractive(key) {\n",
              "        const element = document.querySelector('#df-42395880-ce68-45b3-8c36-d77e84533909');\n",
              "        const dataTable =\n",
              "          await google.colab.kernel.invokeFunction('convertToInteractive',\n",
              "                                                    [key], {});\n",
              "        if (!dataTable) return;\n",
              "\n",
              "        const docLinkHtml = 'Like what you see? Visit the ' +\n",
              "          '<a target=\"_blank\" href=https://colab.research.google.com/notebooks/data_table.ipynb>data table notebook</a>'\n",
              "          + ' to learn more about interactive tables.';\n",
              "        element.innerHTML = '';\n",
              "        dataTable['output_type'] = 'display_data';\n",
              "        await google.colab.output.renderOutput(dataTable, element);\n",
              "        const docLink = document.createElement('div');\n",
              "        docLink.innerHTML = docLinkHtml;\n",
              "        element.appendChild(docLink);\n",
              "      }\n",
              "    </script>\n",
              "  </div>\n",
              "\n",
              "\n",
              "<div id=\"df-ffea74da-db1e-4388-965f-31ce316adf46\">\n",
              "  <button class=\"colab-df-quickchart\" onclick=\"quickchart('df-ffea74da-db1e-4388-965f-31ce316adf46')\"\n",
              "            title=\"Suggest charts\"\n",
              "            style=\"display:none;\">\n",
              "\n",
              "<svg xmlns=\"http://www.w3.org/2000/svg\" height=\"24px\"viewBox=\"0 0 24 24\"\n",
              "     width=\"24px\">\n",
              "    <g>\n",
              "        <path d=\"M19 3H5c-1.1 0-2 .9-2 2v14c0 1.1.9 2 2 2h14c1.1 0 2-.9 2-2V5c0-1.1-.9-2-2-2zM9 17H7v-7h2v7zm4 0h-2V7h2v10zm4 0h-2v-4h2v4z\"/>\n",
              "    </g>\n",
              "</svg>\n",
              "  </button>\n",
              "\n",
              "<style>\n",
              "  .colab-df-quickchart {\n",
              "      --bg-color: #E8F0FE;\n",
              "      --fill-color: #1967D2;\n",
              "      --hover-bg-color: #E2EBFA;\n",
              "      --hover-fill-color: #174EA6;\n",
              "      --disabled-fill-color: #AAA;\n",
              "      --disabled-bg-color: #DDD;\n",
              "  }\n",
              "\n",
              "  [theme=dark] .colab-df-quickchart {\n",
              "      --bg-color: #3B4455;\n",
              "      --fill-color: #D2E3FC;\n",
              "      --hover-bg-color: #434B5C;\n",
              "      --hover-fill-color: #FFFFFF;\n",
              "      --disabled-bg-color: #3B4455;\n",
              "      --disabled-fill-color: #666;\n",
              "  }\n",
              "\n",
              "  .colab-df-quickchart {\n",
              "    background-color: var(--bg-color);\n",
              "    border: none;\n",
              "    border-radius: 50%;\n",
              "    cursor: pointer;\n",
              "    display: none;\n",
              "    fill: var(--fill-color);\n",
              "    height: 32px;\n",
              "    padding: 0;\n",
              "    width: 32px;\n",
              "  }\n",
              "\n",
              "  .colab-df-quickchart:hover {\n",
              "    background-color: var(--hover-bg-color);\n",
              "    box-shadow: 0 1px 2px rgba(60, 64, 67, 0.3), 0 1px 3px 1px rgba(60, 64, 67, 0.15);\n",
              "    fill: var(--button-hover-fill-color);\n",
              "  }\n",
              "\n",
              "  .colab-df-quickchart-complete:disabled,\n",
              "  .colab-df-quickchart-complete:disabled:hover {\n",
              "    background-color: var(--disabled-bg-color);\n",
              "    fill: var(--disabled-fill-color);\n",
              "    box-shadow: none;\n",
              "  }\n",
              "\n",
              "  .colab-df-spinner {\n",
              "    border: 2px solid var(--fill-color);\n",
              "    border-color: transparent;\n",
              "    border-bottom-color: var(--fill-color);\n",
              "    animation:\n",
              "      spin 1s steps(1) infinite;\n",
              "  }\n",
              "\n",
              "  @keyframes spin {\n",
              "    0% {\n",
              "      border-color: transparent;\n",
              "      border-bottom-color: var(--fill-color);\n",
              "      border-left-color: var(--fill-color);\n",
              "    }\n",
              "    20% {\n",
              "      border-color: transparent;\n",
              "      border-left-color: var(--fill-color);\n",
              "      border-top-color: var(--fill-color);\n",
              "    }\n",
              "    30% {\n",
              "      border-color: transparent;\n",
              "      border-left-color: var(--fill-color);\n",
              "      border-top-color: var(--fill-color);\n",
              "      border-right-color: var(--fill-color);\n",
              "    }\n",
              "    40% {\n",
              "      border-color: transparent;\n",
              "      border-right-color: var(--fill-color);\n",
              "      border-top-color: var(--fill-color);\n",
              "    }\n",
              "    60% {\n",
              "      border-color: transparent;\n",
              "      border-right-color: var(--fill-color);\n",
              "    }\n",
              "    80% {\n",
              "      border-color: transparent;\n",
              "      border-right-color: var(--fill-color);\n",
              "      border-bottom-color: var(--fill-color);\n",
              "    }\n",
              "    90% {\n",
              "      border-color: transparent;\n",
              "      border-bottom-color: var(--fill-color);\n",
              "    }\n",
              "  }\n",
              "</style>\n",
              "\n",
              "  <script>\n",
              "    async function quickchart(key) {\n",
              "      const quickchartButtonEl =\n",
              "        document.querySelector('#' + key + ' button');\n",
              "      quickchartButtonEl.disabled = true;  // To prevent multiple clicks.\n",
              "      quickchartButtonEl.classList.add('colab-df-spinner');\n",
              "      try {\n",
              "        const charts = await google.colab.kernel.invokeFunction(\n",
              "            'suggestCharts', [key], {});\n",
              "      } catch (error) {\n",
              "        console.error('Error during call to suggestCharts:', error);\n",
              "      }\n",
              "      quickchartButtonEl.classList.remove('colab-df-spinner');\n",
              "      quickchartButtonEl.classList.add('colab-df-quickchart-complete');\n",
              "    }\n",
              "    (() => {\n",
              "      let quickchartButtonEl =\n",
              "        document.querySelector('#df-ffea74da-db1e-4388-965f-31ce316adf46 button');\n",
              "      quickchartButtonEl.style.display =\n",
              "        google.colab.kernel.accessAllowed ? 'block' : 'none';\n",
              "    })();\n",
              "  </script>\n",
              "</div>\n",
              "\n",
              "    </div>\n",
              "  </div>\n"
            ],
            "application/vnd.google.colaboratory.intrinsic+json": {
              "type": "dataframe",
              "variable_name": "df",
              "summary": "{\n  \"name\": \"df\",\n  \"rows\": 591,\n  \"fields\": [\n    {\n      \"column\": \"Predicted Labels\",\n      \"properties\": {\n        \"dtype\": \"category\",\n        \"num_unique_values\": 2,\n        \"samples\": [\n          \"abnormal\",\n          \"normal\"\n        ],\n        \"semantic_type\": \"\",\n        \"description\": \"\"\n      }\n    },\n    {\n      \"column\": \"Actual Labels\",\n      \"properties\": {\n        \"dtype\": \"category\",\n        \"num_unique_values\": 2,\n        \"samples\": [\n          \"abnormal\",\n          \"normal\"\n        ],\n        \"semantic_type\": \"\",\n        \"description\": \"\"\n      }\n    }\n  ]\n}"
            }
          },
          "metadata": {},
          "execution_count": 31
        }
      ],
      "source": [
        "#ANN\n",
        "df = pd.DataFrame(columns=['Predicted Labels', 'Actual Labels'])\n",
        "df['Predicted Labels'] = y_pred.flatten()\n",
        "df['Actual Labels'] = y_test.flatten()\n",
        "\n",
        "df.head(20)"
      ]
    },
    {
      "cell_type": "markdown",
      "metadata": {
        "id": "gG4fgsiunoVZ"
      },
      "source": [
        "#**function to record audio from the user**"
      ]
    },
    {
      "cell_type": "code",
      "execution_count": 33,
      "metadata": {
        "id": "fozRCc_EnWyO"
      },
      "outputs": [],
      "source": [
        "from google.colab import output\n",
        "\n",
        "def record_audio(duration):\n",
        "    print(\"Recording...\")\n",
        "    output.clear(output_tags='audio')\n",
        "    js_code = f'''\n",
        "    async function recordAudio(duration) {{\n",
        "        const recorder = new MediaRecorder(await navigator.mediaDevices.getUserMedia({{ audio: true }}));\n",
        "        const audioChunks = [];\n",
        "\n",
        "        recorder.addEventListener('dataavailable', event => {{\n",
        "            audioChunks.push(event.data);\n",
        "        }});\n",
        "\n",
        "        recorder.addEventListener('stop', () => {{\n",
        "            const audioBlob = new Blob(audioChunks, {{ type: 'audio/wav' }});\n",
        "            const reader = new FileReader();\n",
        "            reader.onload = function() {{\n",
        "                const arrayBuffer = reader.result;\n",
        "                const byteArray = new Uint8Array(arrayBuffer);\n",
        "                google.colab.kernel.invokeFunction('saveAudio', [Array.from(byteArray)]);\n",
        "            }};\n",
        "            reader.readAsArrayBuffer(audioBlob);\n",
        "        }});\n",
        "\n",
        "        recorder.start();\n",
        "        await new Promise(resolve => setTimeout(resolve, duration * 1000));\n",
        "        recorder.stop();\n",
        "    }}\n",
        "    recordAudio({duration});\n",
        "    '''\n",
        "\n",
        "    output.register_callback('saveAudio', lambda audio_data: save_audio(audio_data))\n",
        "\n",
        "    output.eval_js(js_code)\n",
        "\n",
        "def save_audio(audio_data):\n",
        "    try:\n",
        "        import os\n",
        "        os.makedirs(\"/content/record\", exist_ok=True)\n",
        "\n",
        "        with open('/content/record/recorded_audio.wav', 'wb') as f:\n",
        "            f.write(bytearray(audio_data))\n",
        "        print(\"Audio saved successfully to /content/record/recorded_audio.wav\")\n",
        "    except Exception as e:\n",
        "        print(\"An error occurred while saving audio:\", str(e))\n",
        "\n",
        "\n"
      ]
    },
    {
      "cell_type": "markdown",
      "metadata": {
        "id": "9cwZPNl-S3ky"
      },
      "source": [
        "#**make prediction on the input record**"
      ]
    },
    {
      "cell_type": "markdown",
      "metadata": {
        "id": "5ZaVFqkun-ef"
      },
      "source": [
        "- taking audio input from the user\n",
        "- applying feature extraion & preprocessing from it\n",
        "- predict using the model"
      ]
    },
    {
      "cell_type": "code",
      "execution_count": 35,
      "metadata": {
        "id": "NLmAlbQymBCH",
        "colab": {
          "base_uri": "https://localhost:8080/",
          "height": 90
        },
        "outputId": "9c35214f-088f-4c6f-b0b0-1e3517fcb734"
      },
      "outputs": [
        {
          "output_type": "stream",
          "name": "stdout",
          "text": [
            "Recording...\n",
            "1/1 [==============================] - 0s 43ms/step\n",
            "Predicted Label: normal\n",
            "Audio saved successfully to /content/record/recorded_audio.wav\n"
          ]
        }
      ],
      "source": [
        "import numpy as np\n",
        "from scipy.io import wavfile\n",
        "from tensorflow.keras.preprocessing import sequence\n",
        "\n",
        "\n",
        "record_audio(5)\n",
        "\n",
        "# Preprocess the recorded audio\n",
        "audio_file_path = '/content/record/recorded_audio.wav'\n",
        "# preprocessed_audio = preprocess_audio(audio_file_path)\n",
        "\n",
        "# Extract features from the preprocessed audio\n",
        "features = get_features(audio_file_path)\n",
        "\n",
        "# Apply the same preprocessing steps as done for training data\n",
        "scaler = StandardScaler()\n",
        "preprocessed_features = scaler.fit_transform(features)\n",
        "preprocessed_features = np.expand_dims(preprocessed_features, axis=2)\n",
        "\n",
        "# Predict using the model\n",
        "prediction = model.predict(preprocessed_features)\n",
        "\n",
        "# Calculate the scores for each class\n",
        "class_scores = np.max(prediction, axis=0)\n",
        "\n",
        "# Extract the class with the maximum score\n",
        "predicted_class = np.argmax(class_scores)\n",
        "\n",
        "# If you have class labels, you can map the predicted class to the label\n",
        "# Replace class_labels with your actual class labels\n",
        "class_labels = ['abnormal', 'normal']\n",
        "\n",
        "predicted_label = class_labels[predicted_class]\n",
        "\n",
        "print(\"Predicted Label:\", predicted_label)\n",
        "\n"
      ]
    },
    {
      "cell_type": "code",
      "execution_count": null,
      "metadata": {
        "id": "RF2cL4i7oSg7",
        "colab": {
          "base_uri": "https://localhost:8080/"
        },
        "outputId": "e2c7e3f8-cce4-4e6c-d32d-127ab5a5688e"
      },
      "outputs": [
        {
          "output_type": "stream",
          "name": "stdout",
          "text": [
            "Conversion to ONNX format completed successfully.\n"
          ]
        }
      ],
      "source": [
        "# # Step 1: Save your Keras model\n",
        "# from keras.models import load_model\n",
        "\n",
        "# # Assuming your model is already defined and trained\n",
        "# model.save('my_keras_model.h5')\n",
        "\n",
        "# # Step 2: Convert the model to ONNX format\n",
        "# import tensorflow as tf\n",
        "# import tf2onnx\n",
        "\n",
        "# # Load the Keras model\n",
        "# keras_model = load_model('my_keras_model.h5')\n",
        "\n",
        "# # Convert Keras model to ONNX format\n",
        "# onnx_model, _ = tf2onnx.convert.from_keras(keras_model)\n",
        "\n",
        "# # Save ONNX model to file\n",
        "# with open('my_onnx_model.onnx', 'wb') as f:\n",
        "#     f.write(onnx_model.SerializeToString())\n",
        "\n",
        "# print(\"Conversion to ONNX format completed successfully.\")"
      ]
    },
    {
      "cell_type": "code",
      "execution_count": null,
      "metadata": {
        "id": "UxILh9duST8l"
      },
      "outputs": [],
      "source": [
        "# model.save(\"my_model.keras\")"
      ]
    }
  ],
  "metadata": {
    "colab": {
      "provenance": []
    },
    "kernelspec": {
      "display_name": "Python 3",
      "name": "python3"
    },
    "language_info": {
      "name": "python"
    }
  },
  "nbformat": 4,
  "nbformat_minor": 0
}